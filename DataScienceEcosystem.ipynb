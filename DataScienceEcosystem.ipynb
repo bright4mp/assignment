{
 "cells": [
  {
   "cell_type": "markdown",
   "id": "3bf35e8e",
   "metadata": {},
   "source": [
    "# Data Science Tools and Ecosystem"
   ]
  },
  {
   "cell_type": "markdown",
   "id": "ce7dec87",
   "metadata": {},
   "source": [
    "In this notebook, Data Science Tools and Ecosystem are summarized. <br>\n"
   ]
  },
  {
   "cell_type": "markdown",
   "id": "c05b5924",
   "metadata": {},
   "source": [
    "**Objectives** <br>\n",
    "+ Python\n",
    "* Rstudio\n",
    "- C++\n",
    "+ Scala"
   ]
  },
  {
   "cell_type": "markdown",
   "id": "ac9eeb45",
   "metadata": {},
   "source": [
    "Some of the popular languages that Data Scientists use are:\n",
    "    "
   ]
  },
  {
   "cell_type": "markdown",
   "id": "97f95c88",
   "metadata": {},
   "source": [
    "    1. Python\n",
    "    2. R language\n",
    "    3. Julia\n",
    "    4. Scala\n",
    "    5. C++\n",
    "    6. JavaScript"
   ]
  },
  {
   "cell_type": "markdown",
   "id": "3c7ee9cc",
   "metadata": {},
   "source": [
    "Some of the commonly used libraries used by Data Scientists include: <br>\n",
    "1. TensorFlow.\n",
    "2. NumPy.\n",
    "3. SciPy.\n",
    "4. Pandas.\n",
    "5. Matplotlib.\n",
    "6. Keras.\n",
    "7. SciKit-Learn.\n",
    "8. PyTorch"
   ]
  },
  {
   "cell_type": "markdown",
   "id": "95001436",
   "metadata": {},
   "source": [
    "| Data Science Tools |\n",
    "|--------------------|\n",
    "|Jupyter|\n",
    "|RStudio|\n",
    "|Apache Spark|"
   ]
  },
  {
   "cell_type": "markdown",
   "id": "36f3e4ae",
   "metadata": {},
   "source": [
    " ### Below are a few examples of evaluating arithmetic expressions in Python <br>\n",
    " "
   ]
  },
  {
   "cell_type": "code",
   "execution_count": 1,
   "id": "824a9f7a",
   "metadata": {},
   "outputs": [
    {
     "data": {
      "text/plain": [
       "17"
      ]
     },
     "execution_count": 1,
     "metadata": {},
     "output_type": "execute_result"
    }
   ],
   "source": [
    "# This a simple arithmetic expression to mutiply then add integers\n",
    "\n",
    "(3*4)+5"
   ]
  },
  {
   "cell_type": "code",
   "execution_count": 2,
   "id": "2e83f75e",
   "metadata": {},
   "outputs": [
    {
     "data": {
      "text/plain": [
       "3.3333333333333335"
      ]
     },
     "execution_count": 2,
     "metadata": {},
     "output_type": "execute_result"
    }
   ],
   "source": [
    "# This will convert 200 minutes to hours by diving by 60\n",
    "\n",
    "(200/60)"
   ]
  },
  {
   "cell_type": "markdown",
   "id": "b9a48795",
   "metadata": {},
   "source": [
    "## Author <br>\n",
    "Bright Egbo"
   ]
  },
  {
   "cell_type": "code",
   "execution_count": null,
   "id": "ef709ea1",
   "metadata": {},
   "outputs": [],
   "source": []
  }
 ],
 "metadata": {
  "kernelspec": {
   "display_name": "Python 3 (ipykernel)",
   "language": "python",
   "name": "python3"
  },
  "language_info": {
   "codemirror_mode": {
    "name": "ipython",
    "version": 3
   },
   "file_extension": ".py",
   "mimetype": "text/x-python",
   "name": "python",
   "nbconvert_exporter": "python",
   "pygments_lexer": "ipython3",
   "version": "3.9.7"
  }
 },
 "nbformat": 4,
 "nbformat_minor": 5
}
